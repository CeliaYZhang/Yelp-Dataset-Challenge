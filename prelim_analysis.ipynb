{
 "cells": [
  {
   "cell_type": "code",
   "execution_count": 38,
   "metadata": {},
   "outputs": [],
   "source": [
    "import numpy as np\n",
    "import pandas as pd\n",
    "import matplotlib.pyplot as plt\n",
    "\n",
    "import json\n",
    "import time\n",
    "from collections import defaultdict\n",
    "\n",
    "import loading"
   ]
  },
  {
   "cell_type": "code",
   "execution_count": 22,
   "metadata": {
    "collapsed": true
   },
   "outputs": [],
   "source": [
    "def load(name):\n",
    "  start = time.time()\n",
    "  data = loading.read_df_from_json('data/%s.json' % name)\n",
    "  print time.time() - start\n",
    "  return data"
   ]
  },
  {
   "cell_type": "code",
   "execution_count": 23,
   "metadata": {},
   "outputs": [
    {
     "name": "stdout",
     "output_type": "stream",
     "text": [
      "8.55127310753\n",
      "4.50506615639\n",
      "1.97591710091\n",
      "106.850568056\n",
      "12.1096339226\n",
      "196.392524004\n"
     ]
    }
   ],
   "source": [
    "business = load('business')\n",
    "checkin = load('checkin')\n",
    "photos = load('photos')\n",
    "review = load('review')\n",
    "tip = load('tip')\n",
    "user = load('user')"
   ]
  },
  {
   "cell_type": "code",
   "execution_count": 28,
   "metadata": {},
   "outputs": [
    {
     "name": "stdout",
     "output_type": "stream",
     "text": [
      "156639\n",
      "135148\n",
      "196278\n",
      "4736897\n",
      "1028802\n",
      "1183362\n"
     ]
    }
   ],
   "source": [
    "print len(business)\n",
    "print len(checkin)\n",
    "print len(photos)\n",
    "print len(review)\n",
    "print len(tip)\n",
    "print len(user)"
   ]
  },
  {
   "cell_type": "code",
   "execution_count": 29,
   "metadata": {},
   "outputs": [
    {
     "name": "stdout",
     "output_type": "stream",
     "text": [
      "156638\n"
     ]
    }
   ],
   "source": [
    "myset = set(review['business_id'])\n",
    "print len(myset)"
   ]
  },
  {
   "cell_type": "code",
   "execution_count": 31,
   "metadata": {},
   "outputs": [
    {
     "name": "stdout",
     "output_type": "stream",
     "text": [
      "132262\n"
     ]
    }
   ],
   "source": [
    "print np.sum(business['is_open'])"
   ]
  },
  {
   "cell_type": "code",
   "execution_count": 33,
   "metadata": {},
   "outputs": [
    {
     "name": "stdout",
     "output_type": "stream",
     "text": [
      "1010\n"
     ]
    }
   ],
   "source": [
    "print len(set(business['city']))"
   ]
  },
  {
   "cell_type": "code",
   "execution_count": 37,
   "metadata": {
    "collapsed": true
   },
   "outputs": [
    {
     "name": "stdout",
     "output_type": "stream",
     "text": [
      "defaultdict(<type 'int'>, {1: 619557, 2: 197403, 3: 101101, 4: 60553, 5: 40080, 6: 28344, 7: 20798, 8: 16169, 9: 12723, 10: 10132, 11: 8384, 12: 7031, 13: 5814, 14: 5019, 15: 4426, 16: 3747, 17: 3247, 18: 2845, 19: 2525, 20: 2203, 21: 1977, 22: 1785, 23: 1609, 24: 1437, 25: 1302, 26: 1178, 27: 1074, 28: 1029, 29: 895, 30: 866, 31: 801, 32: 814, 33: 674, 34: 644, 35: 557, 36: 634, 37: 520, 38: 523, 39: 463, 40: 439, 41: 424, 42: 376, 43: 354, 44: 321, 45: 325, 46: 308, 47: 321, 48: 281, 49: 276, 50: 255, 51: 278, 52: 229, 53: 233, 54: 220, 55: 192, 56: 179, 57: 213, 58: 170, 59: 180, 60: 167, 61: 146, 62: 158, 63: 150, 64: 140, 65: 150, 66: 143, 67: 128, 68: 113, 69: 113, 70: 117, 71: 116, 72: 106, 73: 113, 74: 82, 75: 102, 76: 106, 77: 90, 78: 78, 79: 95, 80: 86, 81: 84, 82: 76, 83: 90, 84: 75, 85: 89, 86: 78, 87: 75, 88: 76, 89: 56, 90: 65, 91: 66, 92: 64, 93: 55, 94: 58, 95: 65, 96: 60, 97: 55, 98: 58, 99: 56, 100: 55, 101: 56, 102: 36, 103: 39, 104: 51, 105: 47, 106: 47, 107: 40, 108: 50, 109: 42, 110: 37, 111: 35, 112: 53, 113: 38, 114: 39, 115: 38, 116: 37, 117: 43, 118: 41, 119: 37, 120: 28, 121: 28, 122: 40, 123: 37, 124: 26, 125: 32, 126: 19, 127: 29, 128: 19, 129: 30, 130: 25, 131: 27, 132: 29, 133: 24, 134: 27, 135: 22, 136: 24, 137: 25, 138: 20, 139: 31, 140: 29, 141: 12, 142: 20, 143: 30, 144: 24, 145: 20, 146: 23, 147: 17, 148: 13, 149: 18, 150: 28, 151: 11, 152: 19, 153: 17, 154: 23, 155: 19, 156: 12, 157: 11, 158: 18, 159: 20, 160: 11, 161: 14, 162: 18, 163: 12, 164: 18, 165: 9, 166: 15, 167: 20, 168: 13, 169: 11, 170: 11, 171: 13, 172: 19, 173: 11, 174: 14, 175: 9, 176: 13, 177: 17, 178: 18, 179: 17, 180: 9, 181: 10, 182: 10, 183: 9, 184: 2, 185: 11, 186: 3, 187: 12, 188: 19, 189: 5, 190: 6, 191: 5, 192: 14, 193: 10, 194: 11, 195: 4, 196: 7, 197: 16, 198: 13, 199: 6, 200: 9, 201: 11, 202: 8, 203: 8, 204: 10, 205: 5, 206: 5, 207: 6, 208: 6, 209: 11, 210: 6, 211: 9, 212: 6, 213: 7, 214: 11, 215: 4, 216: 5, 217: 5, 218: 8, 219: 11, 220: 4, 221: 7, 222: 4, 223: 8, 224: 7, 225: 7, 226: 8, 227: 5, 228: 1, 229: 7, 230: 8, 231: 3, 232: 3, 233: 4, 234: 6, 235: 5, 236: 5, 237: 4, 238: 5, 239: 7, 240: 4, 241: 4, 242: 2, 243: 5, 244: 6, 245: 4, 246: 10, 247: 6, 248: 6, 249: 5, 250: 4, 251: 3, 252: 2, 253: 4, 254: 5, 255: 7, 256: 3, 257: 4, 258: 5, 259: 3, 260: 3, 261: 3, 262: 4, 263: 5, 264: 5, 265: 1, 266: 5, 267: 4, 268: 5, 269: 5, 270: 2, 271: 4, 272: 4, 273: 3, 274: 4, 275: 4, 276: 2, 277: 4, 278: 2, 279: 3, 280: 4, 281: 5, 282: 2, 283: 3, 284: 3, 285: 4, 286: 2, 287: 4, 288: 3, 289: 3, 290: 4, 291: 2, 292: 6, 293: 3, 294: 3, 295: 7, 296: 5, 297: 1, 298: 1, 299: 5, 300: 4, 301: 3, 302: 4, 303: 3, 304: 1, 305: 3, 306: 2, 307: 5, 308: 3, 309: 7, 310: 3, 311: 1, 312: 2, 313: 1, 314: 2, 315: 2, 316: 2, 317: 2, 318: 1, 319: 2, 320: 2, 321: 4, 324: 2, 325: 2, 326: 2, 327: 1, 328: 2, 329: 3, 330: 3, 331: 2, 332: 2, 333: 1, 334: 3, 335: 3, 337: 1, 338: 2, 339: 4, 341: 3, 342: 3, 343: 2, 344: 1, 345: 1, 346: 2, 347: 3, 348: 1, 349: 1, 350: 3, 351: 3, 352: 1, 354: 2, 355: 1, 356: 1, 358: 1, 360: 2, 361: 1, 362: 2, 363: 3, 364: 1, 366: 2, 368: 2, 369: 2, 370: 1, 371: 2, 372: 3, 373: 3, 375: 3, 376: 1, 377: 3, 378: 3, 380: 2, 381: 2, 382: 1, 383: 4, 384: 3, 385: 1, 388: 3, 389: 1, 390: 1, 391: 3, 393: 3, 396: 1, 397: 1, 398: 1, 401: 1, 402: 1, 403: 1, 406: 3, 407: 1, 408: 1, 410: 4, 411: 1, 413: 1, 414: 2, 415: 1, 416: 3, 418: 1, 423: 1, 424: 1, 425: 1, 426: 1, 427: 1, 428: 1, 430: 3, 431: 1, 432: 1, 435: 2, 436: 1, 437: 1, 438: 1, 444: 1, 445: 1, 446: 2, 447: 1, 448: 1, 449: 2, 451: 1, 452: 1, 454: 1, 456: 2, 459: 1, 462: 1, 463: 2, 464: 1, 466: 1, 468: 1, 469: 1, 470: 1, 478: 1, 481: 1, 483: 1, 488: 1, 489: 2, 494: 2, 495: 1, 496: 2, 501: 1, 502: 1, 505: 2, 509: 2, 510: 2, 511: 2, 513: 1, 515: 2, 516: 1, 519: 2, 521: 2, 528: 1, 530: 1, 532: 1, 534: 2, 535: 1, 539: 2, 545: 1, 551: 1, 552: 2, 558: 4, 559: 1, 561: 1, 563: 1, 565: 1, 567: 3, 569: 2, 571: 1, 572: 1, 573: 1, 574: 1, 585: 1, 587: 1, 594: 1, 596: 1, 599: 1, 600: 1, 613: 1, 615: 1, 616: 2, 620: 1, 647: 1, 655: 2, 657: 1, 662: 1, 665: 1, 666: 1, 669: 1, 675: 1, 688: 1, 689: 1, 691: 1, 693: 1, 711: 1, 726: 1, 730: 1, 732: 1, 742: 1, 752: 3, 756: 1, 763: 1, 765: 1, 766: 1, 772: 1, 777: 1, 784: 1, 812: 1, 822: 2, 861: 1, 863: 1, 901: 1, 923: 1, 936: 1, 948: 1, 950: 1, 1013: 1, 1057: 1, 1064: 1, 1067: 1, 1080: 1, 1123: 1, 1160: 1, 1318: 1, 1381: 1, 3442: 1, 1563: 1, 1952: 1})\n"
     ]
    }
   ],
   "source": [
    "dic = defaultdict(int)\n",
    "for u in review['user_id']:\n",
    "  dic[u] += 1\n",
    "dic2 = defaultdict(int)\n",
    "for k in dic:\n",
    "  dic2[dic[k]] += 1\n",
    "print dic2"
   ]
  },
  {
   "cell_type": "code",
   "execution_count": 50,
   "metadata": {},
   "outputs": [
    {
     "data": {
      "image/png": "[encoded data removed]",
      "text/plain": [
       "<matplotlib.figure.Figure at 0x7ff32376b890>"
      ]
     },
     "metadata": {},
     "output_type": "display_data"
    }
   ],
   "source": [
    "bins = range(20)\n",
    "plt.bar(bins, [dic2[b] for b in bins])\n",
    "plt.title('Review count distribution')\n",
    "plt.xlabel('Reviews')\n",
    "plt.ylabel('Number of users')\n",
    "plt.xticks(range(1,21))\n",
    "plt.show()"
   ]
  },
  {
   "cell_type": "code",
   "execution_count": 49,
   "metadata": {},
   "outputs": [
    {
     "data": {
      "text/plain": [
       "array([ 0.52355661,  0.69037201,  0.7758074 ,  0.82697771,  0.86084731,\n",
       "        0.88479941,  0.90237476,  0.91603837,  0.92678994,  0.93535199])"
      ]
     },
     "execution_count": 49,
     "metadata": {},
     "output_type": "execute_result"
    }
   ],
   "source": [
    "np.array([np.sum([dic2[b] for b in range(1, k+1)]) for k in range(1, 11)]) / 1183362.0"
   ]
  },
  {
   "cell_type": "code",
   "execution_count": 68,
   "metadata": {},
   "outputs": [],
   "source": [
    "dic3 = defaultdict(int)\n",
    "for d in review['date']:\n",
    "  dic3[d] += 1"
   ]
  },
  {
   "cell_type": "code",
   "execution_count": 75,
   "metadata": {},
   "outputs": [
    {
     "data": {
      "image/png": "[encoded data removed]",
      "text/plain": [
       "<matplotlib.figure.Figure at 0x7ff32fb87c10>"
      ]
     },
     "metadata": {},
     "output_type": "display_data"
    }
   ],
   "source": [
    "dates = pd.date_range(start=min(dic3.keys()), end=max(dic3.keys()))\n",
    "ts = pd.Series([dic3[str(k)[:str(k).find(' ')]] for k in dates], index=dates)\n",
    "ts.plot()\n",
    "plt.title('Reviews/day over time')\n",
    "plt.xlabel('Time')\n",
    "plt.ylabel('Number of reviews')\n",
    "plt.show()"
   ]
  },
  {
   "cell_type": "code",
   "execution_count": 78,
   "metadata": {},
   "outputs": [],
   "source": [
    "dic4 = defaultdict(int)\n",
    "for r in review['stars']:\n",
    "  dic4[r] += 1"
   ]
  },
  {
   "cell_type": "code",
   "execution_count": 80,
   "metadata": {},
   "outputs": [
    {
     "data": {
      "image/png": "[encoded data removed]",
      "text/plain": [
       "<matplotlib.figure.Figure at 0x7ff2c9ee54d0>"
      ]
     },
     "metadata": {},
     "output_type": "display_data"
    }
   ],
   "source": [
    "r = range(min(dic4.keys()), max(dic4.keys()) + 1)\n",
    "plt.bar(r, [dic4[k] for k in r])\n",
    "plt.title('Rating distribution')\n",
    "plt.xlabel('Stars')\n",
    "plt.ylabel('Number of reviews')\n",
    "plt.xticks(r)\n",
    "plt.show()"
   ]
  },
  {
   "cell_type": "code",
   "execution_count": null,
   "metadata": {
    "collapsed": true
   },
   "outputs": [],
   "source": []
  }
 ],
 "metadata": {
  "kernelspec": {
   "display_name": "Python 2",
   "language": "python",
   "name": "python2"
  },
  "language_info": {
   "codemirror_mode": {
    "name": "ipython",
    "version": 2
   },
   "file_extension": ".py",
   "mimetype": "text/x-python",
   "name": "python",
   "nbconvert_exporter": "python",
   "pygments_lexer": "ipython2",
   "version": "2.7.13"
  }
 },
 "nbformat": 4,
 "nbformat_minor": 2
}
